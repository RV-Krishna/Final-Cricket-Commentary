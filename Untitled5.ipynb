{
  "nbformat": 4,
  "nbformat_minor": 0,
  "metadata": {
    "colab": {
      "name": "Untitled5.ipynb",
      "provenance": [],
      "collapsed_sections": [],
      "include_colab_link": true
    },
    "kernelspec": {
      "name": "python3",
      "display_name": "Python 3"
    },
    "language_info": {
      "name": "python"
    }
  },
  "cells": [
    {
      "cell_type": "markdown",
      "metadata": {
        "id": "view-in-github",
        "colab_type": "text"
      },
      "source": [
        "<a href=\"https://colab.research.google.com/github/RV-Krishna/Final-Cricket-Commentary/blob/main/Untitled5.ipynb\" target=\"_parent\"><img src=\"https://colab.research.google.com/assets/colab-badge.svg\" alt=\"Open In Colab\"/></a>"
      ]
    },
    {
      "cell_type": "code",
      "execution_count": null,
      "metadata": {
        "id": "IVvZUo0S8Oo4"
      },
      "outputs": [],
      "source": [
        "import pandas as pd\n",
        "day = pd.read_csv(\"64865.csv\")\n",
        "stats = pd.read_csv(\"stats.csv\",index_col=\"Player\")\n",
        "commentary = []\n",
        "b = set(day[\"Batsman\"])\n",
        "d = dict()\n",
        "for i in b:\n",
        "  d[i]=[0,0,0]\n",
        "check50 = 0\n",
        "check100 = 0\n",
        "for i in range(len(day[\"Runs\"])):\n",
        "  if day.iloc[i,6]>1:\n",
        "    if day.iloc[i,6] == 4:\n",
        "      d[day.iloc[i,3]][0]+=1\n",
        "      pmf = d[day.iloc[i,3]][0]\n",
        "      ctf = pmf+stats.loc[day.iloc[i,3],\"4's\"]\n",
        "      commentary.append(\"This is {0} four in this match by {1} and {2} four in his carrier\".format(pmf,day.iloc[i,3],ctf))\n",
        "    elif day.iloc[i,6] == 6:\n",
        "      d[day.iloc[i,3]][1]+=1\n",
        "      pms = d[day.iloc[i,3]][1]\n",
        "      cts = pms+stats.loc[day.iloc[i,3],\"6's\"]\n",
        "      commentary.append(\"This is {0} four in this match by {1} and {2} four in his carrier\".format(pms,day.iloc[i,3],cts))\n",
        "    d[day.iloc[i,3]][2]+=day.iloc[i,6]\n",
        "    if d[day.iloc[i,3]][2]>=50 and check50==0:\n",
        "      check50=3\n",
        "      commentary.append(\"Mr.{} scored an excellet 50 in this match and this is {} fifty(50) in his carrier\".format(day.iloc[i,3],1+stats.loc[day.iloc[i,3],\"50's\"]))\n",
        "    if d[day.iloc[i,3]][2]>=100:\n",
        "      check100 = 4\n",
        "      commentary.append(\"Mr.{} scored an excellet 100 in this match and this is {} hundred(100) in his carrier\".format(day.iloc[i,3],1+stats.loc[day.iloc[i,3],\"100's\"]))\n",
        "  else:\n",
        "    commentary.append(\"Dot Ball\")"
      ]
    },
    {
      "cell_type": "code",
      "source": [
        ""
      ],
      "metadata": {
        "id": "w1YQLYRE8Yki"
      },
      "execution_count": null,
      "outputs": []
    }
  ]
}